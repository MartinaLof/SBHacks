{
 "cells": [
  {
   "cell_type": "code",
   "execution_count": 15,
   "metadata": {},
   "outputs": [],
   "source": [
    "import numpy as np\n",
    "import cvxpy as opt\n",
    "import pandas as pd\n",
    "import csv\n",
    "import pprint\n",
    "import glob"
   ]
  },
  {
   "cell_type": "code",
   "execution_count": 16,
   "metadata": {},
   "outputs": [],
   "source": [
    "\"\"\"\n",
    "This cell will develop the time constraint matrix. We define this matrix as a 168 * 5 (i, j) \n",
    "matrix where i represent the 5 minute block of time and \n",
    "In this 1 and 0 matrix, 1 represents a scheduled class and 0 implies an empty spot. \n",
    "We can set a linear constraint in our linear program that says all must be less than 2. This \n",
    "constraint will be later in our optimization. \n",
    "\"\"\"\n",
    "time_matrix = np.zeros((168,5))\n",
    "time_constraint = (time_matrix <= 1)\n",
    "\n"
   ]
  },
  {
   "cell_type": "code",
   "execution_count": 23,
   "metadata": {},
   "outputs": [
    {
     "name": "stdout",
     "output_type": "stream",
     "text": [
      "The following datasets have been properly uploaded ['MATH', 'PSTAT', 'CMPSC']\n"
     ]
    }
   ],
   "source": [
    "\"\"\"\n",
    "In this cell we will import all of the csv files and turn them into a parsable dataframe.\n",
    "We will need to iterate through all of the files in data subfolder. \n",
    "\"\"\"\n",
    "# Need to make a list of all file names\n",
    "course_files = glob.glob('data/*.csv')\n",
    "\n",
    "def pull_names(course_files):\n",
    "    \"\"\"\n",
    "    Takes in a set of course files that have format {'data/*.csv'} and outputs a set of just department names\n",
    "    \"\"\"\n",
    "    names = [] \n",
    "    for file in course_files:\n",
    "        #take out the data\n",
    "        pre, rest = file.split(\"/\")\n",
    "        #take out CSV\n",
    "        index_name, blah = rest.split('.')\n",
    "        #take out quarter\n",
    "        department, quarter = index_name.split(\"-\")\n",
    "        names.append(department)\n",
    "    return names\n",
    "\n",
    "course_file_names = pull_names(course_files)\n",
    "print(\"The following datasets have been properly uploaded \" + str(course_file_names))\n",
    "\n",
    "#Now we need to turn these bad boys into data frames. \n",
    "def create_dataframes(names_list, quarter):\n",
    "    \"\"\"\n",
    "    Takes a set of CSV names (as a list) and outputs a dictionary of pandas frames \n",
    "    that can be easily accessed by department. \n",
    "    \"\"\"\n",
    "    pandas_frames = {}\n",
    "    for file_name in names_list:\n",
    "        pandas_frames[file_name] = pd.read_csv(\"data/\" + file_name + \"-\" + quarter + \".csv\")\n",
    "        pandas_frames[file_name] = pandas_frames[file_name].reindex(index=pandas_frames[file_name].index[::-1]).reset_index()\n",
    "    return pandas_frames\n",
    "\n",
    "quarter = \"WINTER2019\"\n",
    "frames = create_dataframes(course_file_names, quarter)"
   ]
  },
  {
   "cell_type": "code",
   "execution_count": null,
   "metadata": {},
   "outputs": [],
   "source": [
    "frames[\"CMP\"]"
   ]
  },
  {
   "cell_type": "code",
   "execution_count": null,
   "metadata": {},
   "outputs": [],
   "source": [
    "#Optimization Solver Cell\n",
    "cons = [time_constraint]\n"
   ]
  }
 ],
 "metadata": {
  "kernelspec": {
   "display_name": "Python 3",
   "language": "python",
   "name": "python3"
  },
  "language_info": {
   "codemirror_mode": {
    "name": "ipython",
    "version": 3
   },
   "file_extension": ".py",
   "mimetype": "text/x-python",
   "name": "python",
   "nbconvert_exporter": "python",
   "pygments_lexer": "ipython3",
   "version": "3.7.0"
  }
 },
 "nbformat": 4,
 "nbformat_minor": 2
}
